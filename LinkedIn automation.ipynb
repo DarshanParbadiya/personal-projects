{
 "cells": [
  {
   "cell_type": "code",
   "execution_count": 1,
   "metadata": {},
   "outputs": [],
   "source": [
    "from webdriver_manager.chrome import ChromeDriverManager\n",
    "from selenium import webdriver\n",
    "from selenium.webdriver.chrome.service import Service\n",
    "from selenium.webdriver.common.by import By\n",
    "from selenium.webdriver.support.ui import WebDriverWait\n",
    "from selenium.webdriver.support import expected_conditions as EC\n",
    "from selenium.webdriver.common.keys import Keys\n",
    "from bs4 import BeautifulSoup\n",
    "import json\n",
    "import csv\n",
    "import time\n",
    "import psycopg2"
   ]
  },
  {
   "cell_type": "code",
   "execution_count": 2,
   "metadata": {},
   "outputs": [],
   "source": [
    "driver = webdriver.Chrome()\n",
    "wait = WebDriverWait(driver, 10)\n",
    "# import undetected_chromedriver as uc\n",
    "# driver = uc.Chrome(headless=True,use_subprocess=False)"
   ]
  },
  {
   "cell_type": "code",
   "execution_count": 3,
   "metadata": {},
   "outputs": [],
   "source": [
    "class LinkedinScraper:\n",
    "    def __init__(self):\n",
    "        self.driver = driver\n",
    "        self.wait = wait\n",
    "        \n",
    "    @staticmethod\n",
    "    def login():\n",
    "        LinkedinScraper.get_linkedin_site()\n",
    "        with open(\"cookies.json\", \"r\") as file:\n",
    "            cookies = json.load(file)\n",
    "            for cookie in cookies:\n",
    "                driver.add_cookie(cookie)\n",
    "\n",
    "        # Refresh the page to apply cookies and maintain the session\n",
    "        driver.refresh()\n",
    "        \n",
    "    @staticmethod\n",
    "    def save_cookies():\n",
    "        LinkedinScraper.get_linkedin_site()\n",
    "        cookies = driver.get_cookies()\n",
    "        # Save cookies for later use (to a file or variable)\n",
    "        print(cookies)\n",
    "        with open('cookies.json', 'w') as file:\n",
    "            json.dump(cookies, file)\n",
    "\n",
    "    \n",
    "    @staticmethod\n",
    "    def get_linkedin_site():\n",
    "        url = f\"https://www.linkedin.com/\"\n",
    "        driver.get(url)\n",
    "        wait = WebDriverWait(driver, 30)\n",
    "        \n",
    "    @staticmethod\n",
    "    def button_locator(lablel):\n",
    "        return wait.until(EC.presence_of_all_elements_located((By.XPATH,f\"//button[@aria-label='{lablel}']\")))[0]\n",
    "\n",
    "    def search(self,query):\n",
    "        input_box = driver.find_element(By.CLASS_NAME, \"search-global-typeahead__input\")\n",
    "        \n",
    "        # Clear the input box\n",
    "        input_box.clear()\n",
    "\n",
    "        # Send text to the input box\n",
    "        input_box.send_keys(query)\n",
    "\n",
    "        # Press the Enter key\n",
    "        input_box.send_keys(Keys.RETURN)\n",
    "    \n",
    "    @staticmethod\n",
    "    def send_invite_with_message(message,send_note=True):\n",
    "        while(LinkedinScraper.is_there_next_page()):\n",
    "            LinkedinScraper.scroll_to_top()\n",
    "            send_button = wait.until(EC.presence_of_all_elements_located((By.XPATH,\"//button[@class='artdeco-button artdeco-button--2 artdeco-button--secondary ember-view']\")))\n",
    "             \n",
    "            time.sleep(1)\n",
    "            print(f\"there are total  {len(send_button)} people on page\")\n",
    "            # send invite to all the people on the page\n",
    "            for button in send_button:\n",
    "                send_button = button\n",
    "                time.sleep(1.5)\n",
    "                # identify whether the add note button is there or not\n",
    "                # check current button is contains follow or connect\n",
    "                print(f\"printing the aria label {button.get_attribute('aria-label')}\")\n",
    "                aria_text = button.get_attribute('aria-label')\n",
    "                if \"Follow\" in aria_text:\n",
    "                    print('follow button, do not follow')\n",
    "                    continue\n",
    "                elif \"Invite\" in aria_text:\n",
    "                    print(f'do the invite for {aria_text}')\n",
    "                    send_button.click()\n",
    "                    # @remove \n",
    "                    # closing right now for testing\n",
    "                    # close_button = LinkedinScraper.button_locator('Dismiss')\n",
    "                    # close_button.click()\n",
    "                     \n",
    "                    # add_without_note_button = wait.until(EC.presence_of_all_elements_located((By.XPATH,\"//button[@aria-label='Send without a note']\")))[0]\n",
    "                    with_note_button = wait.until(EC.presence_of_all_elements_located((By.XPATH,\"//button[@aria-label='Add a note']\")))[0]\n",
    "                    with_note_button.click()\n",
    "                    add_note_text = wait.until(EC.presence_of_all_elements_located((By.XPATH,\"//textarea[@id='custom-message']\")))[0]\n",
    "                    add_note_text.send_keys(message)\n",
    "                    send_button_on_add_note = wait.until(EC.presence_of_all_elements_located((By.XPATH,\"//button[@aria-label='Send invitation']\")))[0]\n",
    "                    send_button_on_add_note.click()\n",
    "            # got to the next page since it has next page\n",
    "            # LinkedinScraper.scroll_entire_page()\n",
    "            #@remove\n",
    "            next_page = LinkedinScraper.go_to_next_page()\n",
    "        \n",
    "            if next_page == False:\n",
    "                break\n",
    "                \n",
    "        \n",
    "        \n",
    "    @staticmethod\n",
    "    def go_to_next_page():\n",
    "        if LinkedinScraper.is_there_next_page():\n",
    "            try:\n",
    "                # try finding the next button if not found then scroll to the bootom of the page\n",
    "                next_button = wait.until(EC.presence_of_all_elements_located((By.XPATH,\"//button[@aria-label='Next']\")))[0]\n",
    "            except:\n",
    "                LinkedinScraper.scroll_entire_page()\n",
    "            try:\n",
    "                next_button = wait.until(EC.presence_of_all_elements_located((By.XPATH,\"//button[@aria-label='Next']\")))[0]\n",
    "                # click the next button\n",
    "                next_button.click()\n",
    "                time.sleep(1)\n",
    "                return True\n",
    "            except:\n",
    "                print(\"can not go to the next page\")\n",
    "        else:\n",
    "            print(\"no next page\")\n",
    "            return False\n",
    "    \n",
    "    @staticmethod\n",
    "    def is_there_next_page():\n",
    "        try:\n",
    "            # try finding the next button if not found then scroll to the bootom of the page\n",
    "            next_button = wait.until(EC.presence_of_all_elements_located((By.XPATH,\"//button[@aria-label='Next']\")))[0]\n",
    "           \n",
    "        except:\n",
    "            LinkedinScraper.scroll_entire_page()\n",
    "        \n",
    "        try:\n",
    "            next_button = wait.until(EC.presence_of_all_elements_located((By.XPATH,\"//button[@aria-label='Next']\")))[0]\n",
    "            is_disabled = next_button.get_attribute('disabled')\n",
    "            if is_disabled:\n",
    "                return False\n",
    "            else:\n",
    "                return True\n",
    "        except:   \n",
    "            return False\n",
    "        \n",
    "    @staticmethod\n",
    "    def scroll_entire_page():\n",
    "        # do smooth scroll to the bottom of the page\n",
    "        # driver.execute_script(\"window.scrollTo(0, document.body.scrollHeight);\")\n",
    "        driver.execute_script(\"window.scrollTo({ top: document.body.scrollHeight, behavior: 'smooth' });\")\n",
    "        # driver.execute_script(\"window.scrollTo(0, document.body.scrollHeight);\")\n",
    "        # time.sleep(1)\n",
    "        \n",
    "    @staticmethod\n",
    "    def scroll_to_top():\n",
    "        driver.execute_script(\"window.scrollTo(0, 0);\")\n",
    "        \n",
    "    @staticmethod\n",
    "    def get_all_people(name):\n",
    "        # get all the people in the search result\n",
    "        driver.get(f'https://www.linkedin.com/search/results/people/?keywords={name}&origin=CLUSTER_EXPANSION&sid=b%2CA')\n",
    "\n",
    "        \n",
    "            "
   ]
  },
  {
   "cell_type": "code",
   "execution_count": 4,
   "metadata": {},
   "outputs": [],
   "source": [
    "scraper = LinkedinScraper()"
   ]
  },
  {
   "cell_type": "code",
   "execution_count": 5,
   "metadata": {},
   "outputs": [],
   "source": [
    "LinkedinScraper.login()"
   ]
  },
  {
   "cell_type": "code",
   "execution_count": 6,
   "metadata": {},
   "outputs": [],
   "source": [
    "LinkedinScraper.get_all_people('eric')"
   ]
  },
  {
   "cell_type": "markdown",
   "metadata": {},
   "source": [
    "### final Script"
   ]
  },
  {
   "cell_type": "code",
   "execution_count": 8,
   "metadata": {},
   "outputs": [
    {
     "name": "stdout",
     "output_type": "stream",
     "text": [
      "there are total  10 people on page\n",
      "printing the aria label Invite Eric Kang to connect\n",
      "do the invite for Invite Eric Kang to connect\n"
     ]
    },
    {
     "ename": "TimeoutException",
     "evalue": "Message: \n",
     "output_type": "error",
     "traceback": [
      "\u001b[1;31m---------------------------------------------------------------------------\u001b[0m",
      "\u001b[1;31mTimeoutException\u001b[0m                          Traceback (most recent call last)",
      "Cell \u001b[1;32mIn[8], line 1\u001b[0m\n\u001b[1;32m----> 1\u001b[0m \u001b[43mLinkedinScraper\u001b[49m\u001b[38;5;241;43m.\u001b[39;49m\u001b[43msend_invite_with_message\u001b[49m\u001b[43m(\u001b[49m\u001b[38;5;124;43m\"\u001b[39;49m\u001b[38;5;124;43mhello I want to connect with you\u001b[39;49m\u001b[38;5;124;43m\"\u001b[39;49m\u001b[43m)\u001b[49m\n",
      "Cell \u001b[1;32mIn[3], line 79\u001b[0m, in \u001b[0;36mLinkedinScraper.send_invite_with_message\u001b[1;34m(message, send_note)\u001b[0m\n\u001b[0;32m     77\u001b[0m with_note_button \u001b[38;5;241m=\u001b[39m wait\u001b[38;5;241m.\u001b[39muntil(EC\u001b[38;5;241m.\u001b[39mpresence_of_all_elements_located((By\u001b[38;5;241m.\u001b[39mXPATH,\u001b[38;5;124m\"\u001b[39m\u001b[38;5;124m//button[@aria-label=\u001b[39m\u001b[38;5;124m'\u001b[39m\u001b[38;5;124mAdd a note\u001b[39m\u001b[38;5;124m'\u001b[39m\u001b[38;5;124m]\u001b[39m\u001b[38;5;124m\"\u001b[39m)))[\u001b[38;5;241m0\u001b[39m]\n\u001b[0;32m     78\u001b[0m with_note_button\u001b[38;5;241m.\u001b[39mclick()\n\u001b[1;32m---> 79\u001b[0m add_note_text \u001b[38;5;241m=\u001b[39m \u001b[43mwait\u001b[49m\u001b[38;5;241;43m.\u001b[39;49m\u001b[43muntil\u001b[49m\u001b[43m(\u001b[49m\u001b[43mEC\u001b[49m\u001b[38;5;241;43m.\u001b[39;49m\u001b[43mpresence_of_all_elements_located\u001b[49m\u001b[43m(\u001b[49m\u001b[43m(\u001b[49m\u001b[43mBy\u001b[49m\u001b[38;5;241;43m.\u001b[39;49m\u001b[43mXPATH\u001b[49m\u001b[43m,\u001b[49m\u001b[38;5;124;43m\"\u001b[39;49m\u001b[38;5;124;43m//textarea[@id=\u001b[39;49m\u001b[38;5;124;43m'\u001b[39;49m\u001b[38;5;124;43mcustom-message\u001b[39;49m\u001b[38;5;124;43m'\u001b[39;49m\u001b[38;5;124;43m]\u001b[39;49m\u001b[38;5;124;43m\"\u001b[39;49m\u001b[43m)\u001b[49m\u001b[43m)\u001b[49m\u001b[43m)\u001b[49m[\u001b[38;5;241m0\u001b[39m]\n\u001b[0;32m     80\u001b[0m add_note_text\u001b[38;5;241m.\u001b[39msend_keys(message)\n\u001b[0;32m     81\u001b[0m send_button_on_add_note \u001b[38;5;241m=\u001b[39m wait\u001b[38;5;241m.\u001b[39muntil(EC\u001b[38;5;241m.\u001b[39mpresence_of_all_elements_located((By\u001b[38;5;241m.\u001b[39mXPATH,\u001b[38;5;124m\"\u001b[39m\u001b[38;5;124m//button[@aria-label=\u001b[39m\u001b[38;5;124m'\u001b[39m\u001b[38;5;124mSend invitation\u001b[39m\u001b[38;5;124m'\u001b[39m\u001b[38;5;124m]\u001b[39m\u001b[38;5;124m\"\u001b[39m)))[\u001b[38;5;241m0\u001b[39m]\n",
      "File \u001b[1;32mc:\\Users\\dparbadiya\\1. Development\\7. WebScrappers\\.venv\\Lib\\site-packages\\selenium\\webdriver\\support\\wait.py:105\u001b[0m, in \u001b[0;36mWebDriverWait.until\u001b[1;34m(self, method, message)\u001b[0m\n\u001b[0;32m    103\u001b[0m     \u001b[38;5;28;01mif\u001b[39;00m time\u001b[38;5;241m.\u001b[39mmonotonic() \u001b[38;5;241m>\u001b[39m end_time:\n\u001b[0;32m    104\u001b[0m         \u001b[38;5;28;01mbreak\u001b[39;00m\n\u001b[1;32m--> 105\u001b[0m \u001b[38;5;28;01mraise\u001b[39;00m TimeoutException(message, screen, stacktrace)\n",
      "\u001b[1;31mTimeoutException\u001b[0m: Message: \n"
     ]
    }
   ],
   "source": [
    "LinkedinScraper.send_invite_with_message(\"hello I want to connect with you\")"
   ]
  },
  {
   "cell_type": "code",
   "execution_count": null,
   "metadata": {},
   "outputs": [],
   "source": []
  }
 ],
 "metadata": {
  "kernelspec": {
   "display_name": ".venv",
   "language": "python",
   "name": "python3"
  },
  "language_info": {
   "codemirror_mode": {
    "name": "ipython",
    "version": 3
   },
   "file_extension": ".py",
   "mimetype": "text/x-python",
   "name": "python",
   "nbconvert_exporter": "python",
   "pygments_lexer": "ipython3",
   "version": "3.11.9"
  }
 },
 "nbformat": 4,
 "nbformat_minor": 2
}
